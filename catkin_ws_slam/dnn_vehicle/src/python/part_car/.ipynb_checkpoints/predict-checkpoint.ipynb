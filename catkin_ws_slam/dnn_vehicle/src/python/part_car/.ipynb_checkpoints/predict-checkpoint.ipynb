{
 "cells": [
  {
   "cell_type": "code",
   "execution_count": 1,
   "metadata": {},
   "outputs": [
    {
     "name": "stderr",
     "output_type": "stream",
     "text": [
      "/home/duanliming/.local/lib/python3.5/site-packages/h5py/__init__.py:36: FutureWarning: Conversion of the second argument of issubdtype from `float` to `np.floating` is deprecated. In future, it will be treated as `np.float64 == np.dtype(float).type`.\n",
      "  from ._conv import register_converters as _register_converters\n",
      "Using TensorFlow backend.\n"
     ]
    }
   ],
   "source": [
    "from squeezeDet import  SqueezeDet\n",
    "from dataGenerator import generator_from_data_path, visualization_generator_from_data_path\n",
    "import tensorflow as tf\n",
    "import os\n",
    "import numpy as np\n",
    "import argparse\n",
    "from create_config import load_dict"
   ]
  },
  {
   "cell_type": "code",
   "execution_count": 2,
   "metadata": {},
   "outputs": [],
   "source": [
    "CONFIG = \"squeeze.config\"\n",
    "cfg = load_dict(CONFIG)\n",
    "squeeze = SqueezeDet(cfg)\n",
    "model = squeeze.model\n",
    "model.load_weights('../log/checkpoints/model.999-0.69.hdf5')"
   ]
  },
  {
   "cell_type": "code",
   "execution_count": 3,
   "metadata": {},
   "outputs": [],
   "source": [
    "import cv2\n",
    "img = cv2.imread('/home/duanliming/squeezedet-keras/images/training/image_2/2018-06-20 11-31-205.png').astype(np.float32, copy=False)\n",
    "rig_h, orig_w, _ = [float(v) for v in img.shape]\n",
    "img = cv2.resize( img, (cfg.IMAGE_WIDTH, cfg.IMAGE_HEIGHT))\n",
    "img = (img - np.mean(img))/ np.std(img)\n",
    "img = img.reshape((1,1080,1280,3))\n",
    "pred = model.predict(img)"
   ]
  },
  {
   "cell_type": "code",
   "execution_count": 4,
   "metadata": {},
   "outputs": [],
   "source": [
    "from evaluation import filter_batch\n",
    "all_filtered_boxes, all_filtered_classes, all_filtered_scores = filter_batch(pred, cfg)"
   ]
  },
  {
   "cell_type": "code",
   "execution_count": 14,
   "metadata": {},
   "outputs": [
    {
     "data": {
      "text/plain": [
       "(576.6868020974928,\n",
       " [0, 1, 1, 1, 1, 2, 2],\n",
       " [0.8402798,\n",
       "  0.88393366,\n",
       "  0.723868,\n",
       "  0.3027806,\n",
       "  0.23910175,\n",
       "  0.17407349,\n",
       "  0.10082431])"
      ]
     },
     "execution_count": 14,
     "metadata": {},
     "output_type": "execute_result"
    }
   ],
   "source": [
    "all_filtered_boxes, all_filtered_classes, all_filtered_scores"
   ]
  },
  {
   "cell_type": "code",
   "execution_count": 6,
   "metadata": {},
   "outputs": [],
   "source": [
    "def bbox_transform_single_box(bbox):\n",
    "    \"\"\"convert a bbox of form [cx, cy, w, h] to [xmin, ymin, xmax, ymax]. Works\n",
    "    for numpy array or list of tensors.\n",
    "    \"\"\"\n",
    "    cx, cy, w, h = bbox\n",
    "    out_box = [[]]*4\n",
    "    out_box[0] = int(np.floor(cx-w/2))\n",
    "    out_box[1] = int(np.floor(cy-h/2))\n",
    "    out_box[2] = int(np.floor(cx+w/2))\n",
    "    out_box[3] = int(np.floor(cy+h/2))\n",
    "\n",
    "    return out_box"
   ]
  },
  {
   "cell_type": "code",
   "execution_count": 16,
   "metadata": {},
   "outputs": [
    {
     "ename": "IndexError",
     "evalue": "invalid index to scalar variable.",
     "output_type": "error",
     "traceback": [
      "\u001b[0;31m---------------------------------------------------------------------------\u001b[0m",
      "\u001b[0;31mIndexError\u001b[0m                                Traceback (most recent call last)",
      "\u001b[0;32m<ipython-input-16-9434cf2093c4>\u001b[0m in \u001b[0;36m<module>\u001b[0;34m()\u001b[0m\n\u001b[1;32m      3\u001b[0m \u001b[0mimg\u001b[0m \u001b[0;34m=\u001b[0m \u001b[0mcv2\u001b[0m\u001b[0;34m.\u001b[0m\u001b[0mimread\u001b[0m\u001b[0;34m(\u001b[0m\u001b[0;34m'/home/duanliming/squeezedet-keras/images/training/image_2/2018-06-20 11-31-205.png'\u001b[0m\u001b[0;34m)\u001b[0m\u001b[0;34m\u001b[0m\u001b[0m\n\u001b[1;32m      4\u001b[0m \u001b[0mfont\u001b[0m \u001b[0;34m=\u001b[0m \u001b[0mcv2\u001b[0m\u001b[0;34m.\u001b[0m\u001b[0mFONT_HERSHEY_SIMPLEX\u001b[0m\u001b[0;34m\u001b[0m\u001b[0m\n\u001b[0;32m----> 5\u001b[0;31m \u001b[0;32mfor\u001b[0m \u001b[0mj\u001b[0m\u001b[0;34m,\u001b[0m \u001b[0mdet_box\u001b[0m \u001b[0;32min\u001b[0m \u001b[0menumerate\u001b[0m\u001b[0;34m(\u001b[0m\u001b[0mall_filtered_boxes\u001b[0m\u001b[0;34m[\u001b[0m\u001b[0;36m0\u001b[0m\u001b[0;34m]\u001b[0m\u001b[0;34m)\u001b[0m\u001b[0;34m:\u001b[0m\u001b[0;34m\u001b[0m\u001b[0m\n\u001b[0m\u001b[1;32m      6\u001b[0m \u001b[0;34m\u001b[0m\u001b[0m\n\u001b[1;32m      7\u001b[0m     \u001b[0;31m#transform into xmin, ymin, xmax, ymax\u001b[0m\u001b[0;34m\u001b[0m\u001b[0;34m\u001b[0m\u001b[0m\n",
      "\u001b[0;31mIndexError\u001b[0m: invalid index to scalar variable."
     ]
    }
   ],
   "source": [
    "import matplotlib.pyplot as plot\n",
    "%matplotlib inline\n",
    "img = cv2.imread('/home/duanliming/squeezedet-keras/images/training/image_2/2018-06-20 11-31-205.png')\n",
    "font = cv2.FONT_HERSHEY_SIMPLEX\n",
    "for j, det_box in enumerate(all_filtered_boxes[0]):\n",
    "    \n",
    "    #transform into xmin, ymin, xmax, ymax\n",
    "    det_box = bbox_transform_single_box(det_box)\n",
    "    #add rectangle and text\n",
    "    cv2.rectangle(img, (det_box[0], det_box[1]), (det_box[2], det_box[3]), (0,0,255), 1)\n",
    "    cv2.putText(img, cfg.CLASS_NAMES[all_filtered_classes[0][j]] + \" \" + str(all_filtered_scores[0][j]) , (det_box[0], det_box[1]), font, 0.5, (0,0,255), 1, cv2.LINE_AA)\n",
    "cv2.imwrite('imgtest.png',img)"
   ]
  },
  {
   "cell_type": "code",
   "execution_count": null,
   "metadata": {},
   "outputs": [],
   "source": []
  }
 ],
 "metadata": {
  "kernelspec": {
   "display_name": "Python 3",
   "language": "python",
   "name": "python3"
  },
  "language_info": {
   "codemirror_mode": {
    "name": "ipython",
    "version": 3
   },
   "file_extension": ".py",
   "mimetype": "text/x-python",
   "name": "python",
   "nbconvert_exporter": "python",
   "pygments_lexer": "ipython3",
   "version": "3.5.2"
  }
 },
 "nbformat": 4,
 "nbformat_minor": 2
}
